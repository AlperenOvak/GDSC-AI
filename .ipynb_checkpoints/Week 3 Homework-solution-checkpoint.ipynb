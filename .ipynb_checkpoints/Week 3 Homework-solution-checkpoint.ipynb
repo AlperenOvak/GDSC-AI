{
 "cells": [
  {
   "cell_type": "code",
   "execution_count": 52,
   "id": "2c0b6dea",
   "metadata": {},
   "outputs": [
    {
     "name": "stdout",
     "output_type": "stream",
     "text": [
      "Matrix in the specified format:\n",
      "[['⠀', '⠀', '⠀', '⠀', '⠀', '⠀', '⠀', '⠀', '⠀', '⠀', '⠀', '⠀', '⠀', '⠀', '⠀', '⠀', '⠀', '⠀', '⠀', '⠀', '⠀', '⠀'], ['⠀', '⠀', '⠀', '⠀', '⠀', '⣀', '⣴', '⣾', '⣿', '⣷', '⡄', '⠀', '⣾', '⣿', '⣿', '⣦', '⣄', '⠀', '⠀', '⠀', '⠀', '⠀'], ['⠀', '⢀', '⣠', '⣴', '⣾', '⣿', '⣿', '⣿', '⡿', '⠟', '⠀', '⠀', '⠻', '⢿', '⣿', '⣿', '⣿', '⣿', '⣦', '⣄', '⡀', '⠀'], ['⠠', '⣿', '⣿', '⣿', '⣿', '⣿', '⡋', '⠁', '⠀', '⠀', '⠀', '⠀', '⠀', '⠀', '⠈', '⢙', '⣻', '⣿', '⣿', '⣿', '⣿', '⡆'], ['⠀', '⠙', '⠻', '⢿', '⣿', '⣿', '⣿', '⣷', '⣦', '⣄', '⠀', '⠀', '⣀', '⣴', '⣾', '⣿', '⣿', '⣿', '⡿', '⠟', '⠋', '⠀'], ['⠀', '⠀', '⠀', '⠀', '⠈', '⠛', '⢿', '⣿', '⣿', '⣿', '⠆', '⠀', '⣿', '⣿', '⣿', '⡿', '⠟', '⠉', '⠀', '⠀', '⠀', '⠀'], ['⠀', '⠀', '⠀', '⠀', '⠀', '⠀', '⠀', '⠉', '⠋', '⠁', '⠀', '⠀', '⠈', '⠉', '⠉', '⠀', '⠀', '⠀', '⠀', '⠀', '⠀', '⠀']]\n"
     ]
    },
    {
     "data": {
      "text/plain": [
       "'reshaped_array = numpy_array.reshape(18, 54)\\n\\n# Convert NumPy array to TensorFlow tensor with Unicode encoding\\ntf_matrix = tf.convert_to_tensor(reshaped_array, dtype=tf.string, name=\\'unicode_tensor\\')\\n\\n# Convert TensorFlow tensor to NumPy array and decode byte strings\\ntf_matrix_np = [s.decode(\\'utf-8\\') for s in tf_matrix.numpy()]\\n\\n# Print the matrix in the specified format\\nprint(\"Matrix in the specified format:\")\\nprint(tf_matrix_np))'"
      ]
     },
     "execution_count": 52,
     "metadata": {},
     "output_type": "execute_result"
    }
   ],
   "source": [
    "import tensorflow as tf\n",
    "import numpy as np\n",
    "\n",
    "# Your string\n",
    "a = \"⠀⠀⠀⠀⠀⠀⠀⠀⠀⠀⠀⠀⠀⠀⠀⠀⠀⠀⠀⠀⠀⠀⠀⠀⠀⠀⠀⣀⣴⣾⣿⣷⡄⠀⣾⣿⣿⣦⣄⠀⠀⠀⠀⠀⠀⢀⣠⣴⣾⣿⣿⣿⡿⠟⠀⠀⠻⢿⣿⣿⣿⣿⣦⣄⡀⠀⠠⣿⣿⣿⣿⣿⡋⠁⠀⠀⠀⠀⠀⠀⠈⢙⣻⣿⣿⣿⣿⡆⠀⠙⠻⢿⣿⣿⣿⣷⣦⣄⠀⠀⣀⣴⣾⣿⣿⣿⡿⠟⠋⠀⠀⠀⠀⠀⠈⠛⢿⣿⣿⣿⠆⠀⣿⣿⣿⡿⠟⠉⠀⠀⠀⠀⠀⠀⠀⠀⠀⠀⠀⠉⠋⠁⠀⠀⠈⠉⠉⠀⠀⠀⠀⠀⠀⠀\"\n",
    "# Convert string to a NumPy array\n",
    "numpy_array = np.array(list(a), dtype='str')\n",
    "\n",
    "# Convert NumPy array to TensorFlow tensor with Unicode encoding\n",
    "tf_matrix = tf.convert_to_tensor(numpy_array, dtype=tf.string, name='unicode_tensor')\n",
    "\n",
    "tf_matrix_reshaped = tf.reshape(tf_matrix, [7, 22])\n",
    "# Convert TensorFlow tensor to NumPy array and decode byte strings\n",
    "tf_matrix_np = [([c.decode('utf-8') for c in s]) for s in tf_matrix_reshaped.numpy()]\n",
    "\n",
    "\n",
    "# Print the matrix in the specified format\n",
    "print(\"Matrix in the specified format:\")\n",
    "print(tf_matrix_np)\n"
   ]
  },
  {
   "cell_type": "code",
   "execution_count": 54,
   "id": "940da5eb",
   "metadata": {},
   "outputs": [
    {
     "name": "stdout",
     "output_type": "stream",
     "text": [
      "Reshaped Matrix in the specified format:\n",
      "⠀⠀⠀⠀⠀⠀⠀⠀⠀⠀⠀⠀⠀⠀⠀⠀⠀⠀⠀⠀⠀⠀\n",
      "⠀⠀⠀⠀⠀⣀⣴⣾⣿⣷⡄⠀⣾⣿⣿⣦⣄⠀⠀⠀⠀⠀\n",
      "⠀⢀⣠⣴⣾⣿⣿⣿⡿⠟⠀⠀⠻⢿⣿⣿⣿⣿⣦⣄⡀⠀\n",
      "⠠⣿⣿⣿⣿⣿⡋⠁⠀⠀⠀⠀⠀⠀⠈⢙⣻⣿⣿⣿⣿⡆\n",
      "⠀⠙⠻⢿⣿⣿⣿⣷⣦⣄⠀⠀⣀⣴⣾⣿⣿⣿⡿⠟⠋⠀\n",
      "⠀⠀⠀⠀⠈⠛⢿⣿⣿⣿⠆⠀⣿⣿⣿⡿⠟⠉⠀⠀⠀⠀\n",
      "⠀⠀⠀⠀⠀⠀⠀⠉⠋⠁⠀⠀⠈⠉⠉⠀⠀⠀⠀⠀⠀⠀\n"
     ]
    }
   ],
   "source": [
    "# Convert TensorFlow tensor to NumPy array\n",
    "print(\"Reshaped Matrix in the specified format:\")\n",
    "for row in tf_matrix_np:\n",
    "    print(''.join(row))\n"
   ]
  },
  {
   "cell_type": "code",
   "execution_count": null,
   "id": "9e6f0df2",
   "metadata": {},
   "outputs": [],
   "source": []
  }
 ],
 "metadata": {
  "kernelspec": {
   "display_name": "Python 3 (ipykernel)",
   "language": "python",
   "name": "python3"
  },
  "language_info": {
   "codemirror_mode": {
    "name": "ipython",
    "version": 3
   },
   "file_extension": ".py",
   "mimetype": "text/x-python",
   "name": "python",
   "nbconvert_exporter": "python",
   "pygments_lexer": "ipython3",
   "version": "3.11.5"
  }
 },
 "nbformat": 4,
 "nbformat_minor": 5
}
