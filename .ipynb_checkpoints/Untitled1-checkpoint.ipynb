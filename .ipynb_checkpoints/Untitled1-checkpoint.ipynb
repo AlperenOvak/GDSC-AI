{
 "cells": [
  {
   "cell_type": "code",
   "execution_count": 1,
   "id": "3475c011",
   "metadata": {},
   "outputs": [
    {
     "name": "stdout",
     "output_type": "stream",
     "text": [
      "2.14.0\n"
     ]
    }
   ],
   "source": [
    "import tensorflow as tf\n",
    "\n",
    "import numpy as np\n",
    "import matplotlib.pyplot as plt\n",
    "import matplotlib.image as mpimg\n",
    "import itertools\n",
    "from tensorflow.keras.preprocessing.image import ImageDataGenerator\n",
    "import os\n",
    "\n",
    "print(tf.__version__)"
   ]
  },
  {
   "cell_type": "code",
   "execution_count": 14,
   "id": "742c5668",
   "metadata": {},
   "outputs": [
    {
     "name": "stdout",
     "output_type": "stream",
     "text": [
      "C:\\Users\\OVAK\\Desktop\\c\\GDSC-AI\n",
      "Found 200 images belonging to 2 classes.\n"
     ]
    }
   ],
   "source": [
    "def create_custom_dataset(data_dir, batch_size=32, img_size=(224, 224)):\n",
    "    # Create an ImageDataGenerator for data augmentation and normalization\n",
    "    datagen = ImageDataGenerator(\n",
    "        rescale=1./255,\n",
    "        shear_range=0.2,\n",
    "        zoom_range=0.2,\n",
    "        horizontal_flip=True\n",
    "    )\n",
    "\n",
    "    # Create a generator for loading images from the directory\n",
    "    generator = datagen.flow_from_directory(\n",
    "        data_dir,\n",
    "        target_size=img_size,\n",
    "        batch_size=batch_size,\n",
    "        class_mode='categorical'  # Use 'binary' for binary classification\n",
    "    )\n",
    "\n",
    "    return generator\n",
    "\n",
    "# Example usage\n",
    "data_dir = 'week7_data'\n",
    "batch_size = 32\n",
    "img_size = (224, 224)\n",
    "print(os.getcwd())\n",
    "custom_dataset = create_custom_dataset(data_dir, batch_size, img_size)"
   ]
  },
  {
   "cell_type": "code",
   "execution_count": 15,
   "id": "af7b9d37",
   "metadata": {},
   "outputs": [],
   "source": [
    "def create_tf_dataset(generator):\n",
    "    num_classes = len(generator.class_indices)\n",
    "    steps_per_epoch = generator.samples // generator.batch_size\n",
    "\n",
    "    dataset = tf.data.Dataset.from_generator(\n",
    "        lambda: generator,\n",
    "        output_signature=(\n",
    "            tf.TensorSpec(shape=(None, img_size[0], img_size[1], 3), dtype=tf.float32),\n",
    "            tf.TensorSpec(shape=(None, num_classes), dtype=tf.float32)\n",
    "        )\n",
    "    )\n",
    "\n",
    "    return dataset, steps_per_epoch\n",
    "tf_dataset, steps_per_epoch = create_tf_dataset(custom_dataset)"
   ]
  },
  {
   "cell_type": "code",
   "execution_count": null,
   "id": "24777ec4",
   "metadata": {},
   "outputs": [],
   "source": []
  }
 ],
 "metadata": {
  "kernelspec": {
   "display_name": "Python 3 (ipykernel)",
   "language": "python",
   "name": "python3"
  },
  "language_info": {
   "codemirror_mode": {
    "name": "ipython",
    "version": 3
   },
   "file_extension": ".py",
   "mimetype": "text/x-python",
   "name": "python",
   "nbconvert_exporter": "python",
   "pygments_lexer": "ipython3",
   "version": "3.11.5"
  }
 },
 "nbformat": 4,
 "nbformat_minor": 5
}
