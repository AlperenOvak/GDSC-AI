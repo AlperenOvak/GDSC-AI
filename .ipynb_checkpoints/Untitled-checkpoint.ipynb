{
 "cells": [
  {
   "cell_type": "markdown",
   "id": "4ad8d2a7",
   "metadata": {
    "slideshow": {
     "slide_type": "slide"
    }
   },
   "source": [
    "# Operators\n",
    "## Python supports a wide variety of operators which act like functions, i.e.\n",
    "they do something and return a value:\n",
    "\n",
    "Arithmetic: + - * / % **\n",
    "\n",
    "Logical: and or not\n",
    "\n",
    "Comparison: > < >= <= != ==\n",
    "\n",
    "Assignment: =\n",
    "\n",
    "Bitwise: & | ~ ^ >> <<\n",
    "\n",
    "Identity: is is not\n",
    "\n",
    "Membership: in not in\n"
   ]
  },
  {
   "cell_type": "code",
   "execution_count": 8,
   "id": "58458ef6",
   "metadata": {
    "slideshow": {
     "slide_type": "slide"
    }
   },
   "outputs": [
    {
     "name": "stdout",
     "output_type": "stream",
     "text": [
      "Hadi biraz hesaplama yapalım\n"
     ]
    }
   ],
   "source": [
    "print(\"Hadi biraz hesaplama yapalım\")"
   ]
  },
  {
   "cell_type": "code",
   "execution_count": null,
   "id": "cc373e3f",
   "metadata": {},
   "outputs": [],
   "source": []
  }
 ],
 "metadata": {
  "kernelspec": {
   "display_name": "Python 3 (ipykernel)",
   "language": "python",
   "name": "python3"
  },
  "language_info": {
   "codemirror_mode": {
    "name": "ipython",
    "version": 3
   },
   "file_extension": ".py",
   "mimetype": "text/x-python",
   "name": "python",
   "nbconvert_exporter": "python",
   "pygments_lexer": "ipython3",
   "version": "3.11.5"
  }
 },
 "nbformat": 4,
 "nbformat_minor": 5
}
